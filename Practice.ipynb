{
 "cells": [
  {
   "cell_type": "code",
   "execution_count": 1,
   "metadata": {
    "collapsed": true
   },
   "outputs": [],
   "source": [
    "import pandas as pd\n",
    "import re\n",
    "import matplotlib.pyplot as plt\n",
    "%matplotlib inline\n",
    "import seaborn"
   ]
  },
  {
   "cell_type": "code",
   "execution_count": 2,
   "metadata": {
    "collapsed": false
   },
   "outputs": [],
   "source": [
    "summary = pd.read_csv(\"atusdata/atussum_2013.dat\")\n",
    "respondents = pd.read_csv(\"atusdata/atusresp_2013.dat\")\n",
    "activities = pd.read_csv(\"atusdata/atusact_2013.dat\")\n",
    "info = pd.read_csv(\"atusdata/atuscps_2013.dat\")"
   ]
  },
  {
   "cell_type": "code",
   "execution_count": null,
   "metadata": {
    "collapsed": false
   },
   "outputs": [],
   "source": [
    "info.head()"
   ]
  },
  {
   "cell_type": "code",
   "execution_count": null,
   "metadata": {
    "collapsed": false
   },
   "outputs": [],
   "source": [
    "not_married.head()"
   ]
  },
  {
   "cell_type": "code",
   "execution_count": 3,
   "metadata": {
    "collapsed": true
   },
   "outputs": [],
   "source": [
    "adults_crit = summary.TEAGE >= 18\n",
    "child_crit = summary.TEAGE < 18\n",
    "no_children_crit = summary.TRCHILDNUM == 0\n",
    "male_crit = summary.TESEX == 1\n",
    "female_crit = summary.TESEX == 2\n",
    "not_married_crit = info.PEMARITL == 6"
   ]
  },
  {
   "cell_type": "code",
   "execution_count": 4,
   "metadata": {
    "collapsed": true
   },
   "outputs": [],
   "source": [
    "not_married = info[not_married_crit]"
   ]
  },
  {
   "cell_type": "code",
   "execution_count": 5,
   "metadata": {
    "collapsed": true
   },
   "outputs": [],
   "source": [
    "def average_minutes(data, activity_code):\n",
    "    activity_col = \"t{}\".format(activity_code)\n",
    "    data = data[['TUFINLWGT', activity_col]]\n",
    "    data = data.rename(columns={\"TUFINLWGT\": \"weight\", activity_col: \"minutes\"})\n",
    "    data['weighted_minutes'] = data.weight * data.minutes\n",
    "    return data.weighted_minutes.sum() / data.weight.sum()"
   ]
  },
  {
   "cell_type": "code",
   "execution_count": 6,
   "metadata": {
    "collapsed": true
   },
   "outputs": [],
   "source": [
    "adults = summary[adults_crit & no_children_crit]\n"
   ]
  },
  {
   "cell_type": "code",
   "execution_count": 7,
   "metadata": {
    "collapsed": true
   },
   "outputs": [],
   "source": [
    "adults_not_married = pd.merge(adults, not_married, how=\"inner\", left_on=\"tucaseid\", right_on=\"TUCASEID\")"
   ]
  },
  {
   "cell_type": "code",
   "execution_count": null,
   "metadata": {
    "collapsed": false
   },
   "outputs": [],
   "source": [
    "adults_not_married.head()"
   ]
  },
  {
   "cell_type": "code",
   "execution_count": 8,
   "metadata": {
    "collapsed": true
   },
   "outputs": [],
   "source": [
    "data_adults_grooming = adults_not_married[['TUFINLWGT', 'TESEX', 't010201']]"
   ]
  },
  {
   "cell_type": "code",
   "execution_count": 9,
   "metadata": {
    "collapsed": false
   },
   "outputs": [
    {
     "name": "stderr",
     "output_type": "stream",
     "text": [
      "/Users/ZSeaborn/Desktop/Homework/atus-analysis/.direnv/python-3.5.0/lib/python3.5/site-packages/pandas/core/frame.py:1825: UserWarning: Boolean Series key will be reindexed to match DataFrame index.\n",
      "  \"DataFrame index.\", UserWarning)\n"
     ]
    }
   ],
   "source": [
    "data_adults_grooming_m = data_adults_grooming[male_crit]\n",
    "data_adults_grooming_f = data_adults_grooming[female_crit]\n",
    "male_groom_hours = average_minutes(data_adults_grooming_m, \"010201\") / 60\n",
    "female_groom_hours = average_minutes(data_adults_grooming_f, \"010201\") / 60"
   ]
  },
  {
   "cell_type": "code",
   "execution_count": 10,
   "metadata": {
    "collapsed": false
   },
   "outputs": [
    {
     "name": "stdout",
     "output_type": "stream",
     "text": [
      "0.684157975769\n",
      "0.70268052933\n"
     ]
    }
   ],
   "source": [
    "print(male_groom_hours)\n",
    "print(female_groom_hours)"
   ]
  },
  {
   "cell_type": "code",
   "execution_count": 11,
   "metadata": {
    "collapsed": false
   },
   "outputs": [
    {
     "name": "stderr",
     "output_type": "stream",
     "text": [
      "/Users/ZSeaborn/Desktop/Homework/atus-analysis/.direnv/python-3.5.0/lib/python3.5/site-packages/pandas/core/frame.py:1825: UserWarning: Boolean Series key will be reindexed to match DataFrame index.\n",
      "  \"DataFrame index.\", UserWarning)\n"
     ]
    }
   ],
   "source": [
    "data_intimate = adults_not_married[['TUFINLWGT', 'TESEX', 't010401']]\n",
    "male_intimate = data_intimate[male_crit]\n",
    "female_intimate = data_intimate[female_crit]\n",
    "male_intimate_hours = average_minutes(male_intimate, '010401') /60\n",
    "female_intimate_hours = average_minutes(female_intimate, '010401') /60"
   ]
  },
  {
   "cell_type": "code",
   "execution_count": 12,
   "metadata": {
    "collapsed": false
   },
   "outputs": [
    {
     "name": "stderr",
     "output_type": "stream",
     "text": [
      "/Users/ZSeaborn/Desktop/Homework/atus-analysis/.direnv/python-3.5.0/lib/python3.5/site-packages/pandas/core/frame.py:1825: UserWarning: Boolean Series key will be reindexed to match DataFrame index.\n",
      "  \"DataFrame index.\", UserWarning)\n"
     ]
    }
   ],
   "source": [
    "data_phone = adults_not_married[['TUFINLWGT', 'TESEX', 't160102']]\n",
    "male_phone = data_phone[male_crit]\n",
    "female_phone = data_phone[female_crit]\n",
    "male_phone_hours = average_minutes(male_phone, '160102') / 60\n",
    "female_phone_hours = average_minutes(female_phone, '160102') / 60"
   ]
  },
  {
   "cell_type": "code",
   "execution_count": 13,
   "metadata": {
    "collapsed": false
   },
   "outputs": [
    {
     "name": "stderr",
     "output_type": "stream",
     "text": [
      "/Users/ZSeaborn/Desktop/Homework/atus-analysis/.direnv/python-3.5.0/lib/python3.5/site-packages/pandas/core/frame.py:1825: UserWarning: Boolean Series key will be reindexed to match DataFrame index.\n",
      "  \"DataFrame index.\", UserWarning)\n"
     ]
    }
   ],
   "source": [
    "data_work = adults_not_married[['TUFINLWGT', 'TESEX', 't050101', 't050102', 't050401', 't050202']]\n",
    "male_work = data_work[male_crit]\n",
    "female_work = data_work[female_crit]\n",
    "male_main_work_hours = average_minutes(male_work, '050101') / 60\n",
    "male_second_work_hours = average_minutes(male_work, '050102') / 60 \n",
    "female_main_work_hours = average_minutes(female_work, '050101') / 60\n",
    "female_second_work_hours = average_minutes(female_work, '050102') / 60\n",
    "male_work_job_search = average_minutes(male_work, '050401') / 60\n",
    "male_work_food = average_minutes(male_work, '050202') / 60\n",
    "female_work_job_search = average_minutes(female_work, '050401') / 60\n",
    "female_work_food = average_minutes(female_work, '050202') / 60"
   ]
  },
  {
   "cell_type": "code",
   "execution_count": 15,
   "metadata": {
    "collapsed": false
   },
   "outputs": [],
   "source": [
    "male_female_generic = {\"Male\": {\"Grooming\": male_groom_hours, \"'Intimate'\": male_intimate_hours, \"Time on Phone\": male_phone_hours}, \"Female\": {\"Grooming\": female_groom_hours, \"'Intimate'\": female_intimate_hours, \"Time on Phone\": female_phone_hours}}\n",
    "male_vs_female_generic = pd.DataFrame.from_dict(male_female_generic)"
   ]
  },
  {
   "cell_type": "code",
   "execution_count": 16,
   "metadata": {
    "collapsed": false
   },
   "outputs": [
    {
     "data": {
      "text/plain": [
       "<matplotlib.axes._subplots.AxesSubplot at 0x103d0bdd8>"
      ]
     },
     "execution_count": 16,
     "metadata": {},
     "output_type": "execute_result"
    },
    {
     "data": {
      "image/png": "[encoded data removed]",
      "text/plain": [
       "<matplotlib.figure.Figure at 0x103d0b2e8>"
      ]
     },
     "metadata": {},
     "output_type": "display_data"
    }
   ],
   "source": [
    "male_vs_female_generic.plot(kind=\"bar\", title=\"Male vs. Females -- Myths Debunked\", figsize=(20,10))"
   ]
  },
  {
   "cell_type": "code",
   "execution_count": 17,
   "metadata": {
    "collapsed": false
   },
   "outputs": [],
   "source": [
    "male_female_work = {\"Male\": {\"Main Job\": male_main_work_hours, \"Second Job\": male_second_work_hours, \"Job Searching\": male_work_job_search, \"Eating\": male_work_food}, \"Female\": {\"Main Job\": female_main_work_hours, \"Second Job\": female_second_work_hours, \"Job Searching\": female_work_job_search, \"Eating\": female_work_food}}\n",
    "male_vs_female_work = pd.DataFrame.from_dict(male_female_work)"
   ]
  },
  {
   "cell_type": "code",
   "execution_count": 18,
   "metadata": {
    "collapsed": false
   },
   "outputs": [
    {
     "data": {
      "text/plain": [
       "<matplotlib.axes._subplots.AxesSubplot at 0x10957ff98>"
      ]
     },
     "execution_count": 18,
     "metadata": {},
     "output_type": "execute_result"
    },
    {
     "data": {
      "image/png": "[encoded data removed]",
      "text/plain": [
       "<matplotlib.figure.Figure at 0x1095707b8>"
      ]
     },
     "metadata": {},
     "output_type": "display_data"
    }
   ],
   "source": [
    "male_vs_female_work.plot(kind=\"bar\", title=\"Males vs. Females -- Working Habbits\", figsize = (20, 10))"
   ]
  },
  {
   "cell_type": "code",
   "execution_count": 19,
   "metadata": {
    "collapsed": false
   },
   "outputs": [
    {
     "data": {
      "text/html": [
       "<div>\n",
       "<table border=\"1\" class=\"dataframe\">\n",
       "  <thead>\n",
       "    <tr style=\"text-align: right;\">\n",
       "      <th></th>\n",
       "      <th>Female</th>\n",
       "      <th>Male</th>\n",
       "    </tr>\n",
       "  </thead>\n",
       "  <tbody>\n",
       "    <tr>\n",
       "      <th>Eating</th>\n",
       "      <td>0.019012</td>\n",
       "      <td>0.010737</td>\n",
       "    </tr>\n",
       "    <tr>\n",
       "      <th>Job Searching</th>\n",
       "      <td>0.024057</td>\n",
       "      <td>0.058875</td>\n",
       "    </tr>\n",
       "    <tr>\n",
       "      <th>Main Job</th>\n",
       "      <td>3.479282</td>\n",
       "      <td>3.492220</td>\n",
       "    </tr>\n",
       "    <tr>\n",
       "      <th>Second Job</th>\n",
       "      <td>0.104051</td>\n",
       "      <td>0.093654</td>\n",
       "    </tr>\n",
       "  </tbody>\n",
       "</table>\n",
       "</div>"
      ],
      "text/plain": [
       "                 Female      Male\n",
       "Eating         0.019012  0.010737\n",
       "Job Searching  0.024057  0.058875\n",
       "Main Job       3.479282  3.492220\n",
       "Second Job     0.104051  0.093654"
      ]
     },
     "execution_count": 19,
     "metadata": {},
     "output_type": "execute_result"
    }
   ],
   "source": [
    "male_vs_female_work"
   ]
  },
  {
   "cell_type": "code",
   "execution_count": null,
   "metadata": {
    "collapsed": true
   },
   "outputs": [],
   "source": []
  }
 ],
 "metadata": {
  "kernelspec": {
   "display_name": "Python 3",
   "language": "python",
   "name": "python3"
  },
  "language_info": {
   "codemirror_mode": {
    "name": "ipython",
    "version": 3
   },
   "file_extension": ".py",
   "mimetype": "text/x-python",
   "name": "python",
   "nbconvert_exporter": "python",
   "pygments_lexer": "ipython3",
   "version": "3.5.0"
  }
 },
 "nbformat": 4,
 "nbformat_minor": 0
}
